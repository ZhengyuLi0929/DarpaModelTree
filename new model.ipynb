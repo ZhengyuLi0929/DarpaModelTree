{
 "cells": [
  {
   "cell_type": "code",
   "execution_count": 25,
   "metadata": {},
   "outputs": [],
   "source": [
    "import json\n",
    "import pandas as pd\n",
    "import numpy as np\n",
    "from sklearn.cluster import SpectralClustering\n",
    "from sklearn.cluster import KMeans\n",
    "import matplotlib.pyplot as plt\n",
    "import os\n",
    "import copy"
   ]
  },
  {
   "cell_type": "code",
   "execution_count": 56,
   "metadata": {},
   "outputs": [],
   "source": [
    "data_path = \"data_json/\"\n",
    "with open(data_path + \"twitter_time_series_to_2_14.json\") as f:\n",
    "    twitter_file = json.loads(f.read())\n",
    "    twitter = {k: pd.read_json(v, orient='columns') for k, v in twitter_file.items()}\n",
    "with open(data_path + \"youtube_time_series_to_2_14.json\") as f:\n",
    "    youtube_file = json.loads(f.read())\n",
    "    youtube = {k: pd.read_json(v, orient='columns') for k, v in youtube_file.items()}\n",
    "corrTwitter = pd.read_csv('./data_csv/corr_131_twitter.csv', header=0,index_col=0)\n",
    "corrYoutube = pd.read_csv('./data_csv/corr_131_youtube.csv', header=0,index_col=0)"
   ]
  },
  {
   "cell_type": "code",
   "execution_count": 88,
   "metadata": {},
   "outputs": [],
   "source": [
    "def corr_to_csv():\n",
    "\t# correlation between infoID (narrative) and eventID (GDELT event)\n",
    "\t# Output csv file format:\n",
    "\t#          eventID1, eventID2, ...\n",
    "\t# infoID1,    c11  ,    c12  , ...\n",
    "\t# infoID2,    c21  ,    c22  , ...\n",
    "\n",
    "\twith open('./data_json/corrmat_to_2_14.json', 'r') as f:\n",
    "\t\td = json.loads(f.read())\n",
    "\n",
    "\tcorr_twitter = np.array(d['twitterGdeltMat'])\n",
    "\tcorr_youtube = np.array(d['youtubeGdeltMat'])\n",
    "\n",
    "\tx = d['eventCodeMap'].items()\n",
    "\tx = sorted(x, key=lambda a:a[1])\n",
    "\teventID = [key for key,ind in x]\n",
    "\tx = d['narrativeMap'].items()\n",
    "\tx = sorted(x, key=lambda a:a[1])\n",
    "\tinfoID = [key for key,ind in x]\n",
    "\n",
    "\tdf_twitter = pd.DataFrame(corr_twitter.T, index=infoID, columns=eventID)\n",
    "\tdf_youtube = pd.DataFrame(corr_youtube.T, index=infoID, columns=eventID)\n",
    "\n",
    "\tdf_twitter.to_csv('./data_csv/corr_bert_214_twitter.csv')\n",
    "\tdf_youtube.to_csv('./data_csv/corr_bert_214_youtube.csv')\n",
    "corr_to_csv()\n",
    "corrTwi214 =pd.read_csv('./data_csv/corr_bert_214_twitter.csv', header=0,index_col=0)\n",
    "corrYou214 =pd.read_csv('./data_csv/corr_bert_214_youtube.csv', header=0,index_col=0)"
   ]
  },
  {
   "cell_type": "code",
   "execution_count": 33,
   "metadata": {},
   "outputs": [],
   "source": [
    "with open('./data_json/gdelt_time_series.json', 'r') as f:\n",
    "    d = json.loads(f.read())\n",
    "gdelt = {k: pd.read_json(v, typ='series') for k, v in d.items()}"
   ]
  },
  {
   "cell_type": "code",
   "execution_count": 23,
   "metadata": {},
   "outputs": [
    {
     "data": {
      "text/plain": [
       "arrests                              0.865989\n",
       "arrests/opposition                   0.867213\n",
       "guaido/legitimate                    0.829771\n",
       "international/aid                    0.851955\n",
       "international/aid_rejected           0.927185\n",
       "international/respect_sovereignty    0.941865\n",
       "maduro/cuba_support                  0.615512\n",
       "maduro/dictator                      0.801222\n",
       "maduro/legitimate                    0.938636\n",
       "maduro/narco                         0.727506\n",
       "military                             0.890609\n",
       "military/desertions                  0.762396\n",
       "other/anti_socialism                 0.903339\n",
       "other/censorship_outage              0.868739\n",
       "other/chavez                         0.788945\n",
       "other/chavez/anti                    0.795743\n",
       "protests                             0.804182\n",
       "violence                             0.858834\n",
       "dtype: float64"
      ]
     },
     "execution_count": 23,
     "metadata": {},
     "output_type": "execute_result"
    }
   ],
   "source": [
    "corrTwitter.max(axis=1)"
   ]
  },
  {
   "cell_type": "code",
   "execution_count": 24,
   "metadata": {},
   "outputs": [
    {
     "data": {
      "text/plain": [
       "arrests                              0831\n",
       "arrests/opposition                   0831\n",
       "guaido/legitimate                     141\n",
       "international/aid                     070\n",
       "international/aid_rejected            141\n",
       "international/respect_sovereignty     075\n",
       "maduro/cuba_support                  1014\n",
       "maduro/dictator                       141\n",
       "maduro/legitimate                     141\n",
       "maduro/narco                         1712\n",
       "military                              180\n",
       "military/desertions                   182\n",
       "other/anti_socialism                  141\n",
       "other/censorship_outage              1014\n",
       "other/chavez                         1014\n",
       "other/chavez/anti                    1014\n",
       "protests                             1712\n",
       "violence                              141\n",
       "dtype: object"
      ]
     },
     "execution_count": 24,
     "metadata": {},
     "output_type": "execute_result"
    }
   ],
   "source": [
    "corrTwitter.idxmax(axis=1)"
   ]
  },
  {
   "cell_type": "code",
   "execution_count": 49,
   "metadata": {},
   "outputs": [
    {
     "data": {
      "image/png": "[encoded data removed]",
      "text/plain": [
       "<Figure size 432x288 with 1 Axes>"
      ]
     },
     "metadata": {
      "needs_background": "light"
     },
     "output_type": "display_data"
    }
   ],
   "source": [
    "# arrests\n",
    "plt.figure()\n",
    "plt.plot(np.array(gdelt['0831'][:39]),twitter['arrests']['EventCount'][:39],'o')\n",
    "plt.show()"
   ]
  },
  {
   "cell_type": "code",
   "execution_count": 48,
   "metadata": {},
   "outputs": [
    {
     "data": {
      "image/png": "[encoded data removed]",
      "text/plain": [
       "<Figure size 432x288 with 1 Axes>"
      ]
     },
     "metadata": {
      "needs_background": "light"
     },
     "output_type": "display_data"
    }
   ],
   "source": [
    "plt.figure()\n",
    "plt.plot(np.array(gdelt['0831'][:53]),twitter['arrests']['EventCount'],'o')\n",
    "plt.show()"
   ]
  },
  {
   "cell_type": "code",
   "execution_count": 53,
   "metadata": {},
   "outputs": [
    {
     "data": {
      "image/png": "[encoded data removed]",
      "text/plain": [
       "<Figure size 432x288 with 1 Axes>"
      ]
     },
     "metadata": {
      "needs_background": "light"
     },
     "output_type": "display_data"
    }
   ],
   "source": [
    "plt.figure()\n",
    "d = np.array(gdelt['0831'][:53])*1000\n",
    "plt.plot(d)\n",
    "plt.plot(np.array(twitter['arrests']['EventCount']))\n",
    "plt.show()"
   ]
  },
  {
   "cell_type": "code",
   "execution_count": 64,
   "metadata": {},
   "outputs": [],
   "source": [
    "corrTwitter25 = corrTwitter.apply(pd.Series.nlargest, axis = 1, n = 25)"
   ]
  },
  {
   "cell_type": "code",
   "execution_count": 81,
   "metadata": {},
   "outputs": [
    {
     "name": "stdout",
     "output_type": "stream",
     "text": [
      "arrests 0.8637866912815553\n",
      "arrests/opposition 0.8526193303660282\n",
      "guaido/legitimate 0.8205378390668153\n",
      "international/aid 0.849524671044434\n",
      "international/aid_rejected 0.8527198983279215\n",
      "international/respect_sovereignty 0.9183202754767708\n",
      "maduro/cuba_support 0.596333010271295\n",
      "maduro/dictator 0.795728742577703\n",
      "maduro/legitimate 0.8506162292186545\n",
      "maduro/narco 0.7036980827647332\n",
      "military 0.8568684591354062\n",
      "military/desertions 0.6647458145036488\n",
      "other/anti_socialism 0.8651295363606705\n",
      "other/censorship_outage 0.7648760662432399\n",
      "other/chavez 0.755106827382164\n",
      "other/chavez/anti 0.7648745150491296\n",
      "protests 0.7782836466682594\n",
      "violence 0.8277930885398557\n"
     ]
    }
   ],
   "source": [
    "nodelist = [\"arrests\",\"arrests/opposition\",\"guaido/legitimate\",\"international/aid\",\"international/aid_rejected\",\n",
    "            \"international/respect_sovereignty\",\"maduro/cuba_support\",\"maduro/dictator\",\"maduro/legitimate\",\n",
    "            \"maduro/narco\",\"military\",\"military/desertions\",\"other/anti_socialism\",\"other/censorship_outage\",\n",
    "            \"other/chavez\",\"other/chavez/anti\",\"protests\",\"violence\"]\n",
    "for key in nodelist:\n",
    "    print(key, sorted(corrTwitter.loc[key,:])[-2])"
   ]
  },
  {
   "cell_type": "markdown",
   "metadata": {},
   "source": [
    "### sorted(corrTwitter.loc['arrests',:])"
   ]
  },
  {
   "cell_type": "code",
   "execution_count": 85,
   "metadata": {},
   "outputs": [
    {
     "data": {
      "image/png": "[encoded data removed]",
      "text/plain": [
       "<Figure size 432x288 with 1 Axes>"
      ]
     },
     "metadata": {
      "needs_background": "light"
     },
     "output_type": "display_data"
    }
   ],
   "source": [
    "plt.figure()\n",
    "plt.plot(np.array(gdelt['1014'][:39]),youtube['maduro/cuba_support']['EventCount'][:39],'o')\n",
    "plt.show()"
   ]
  },
  {
   "cell_type": "code",
   "execution_count": 91,
   "metadata": {},
   "outputs": [
    {
     "data": {
      "text/plain": [
       "arrests                                   1721\n",
       "arrests/opposition                        1721\n",
       "arrests/opposition/media                  1231\n",
       "arrests/opposition/protesters              083\n",
       "assembly/legitimate                        094\n",
       "crisis                                    0233\n",
       "crisis/lack_essentials                     073\n",
       "crisis/looting                            0351\n",
       "guaido/illegitimate                        126\n",
       "guaido/legitimate                          141\n",
       "guaido/legitimate/international           0333\n",
       "guaido/us_support                         0333\n",
       "international/aid                          073\n",
       "international/aid_rejected                0233\n",
       "international/break_us_relations           150\n",
       "international/emigration                   094\n",
       "international/military                     126\n",
       "international/respect_sovereignty          075\n",
       "international/us_sanctions                1231\n",
       "maduro/cuba_support                        094\n",
       "maduro/dictator                            141\n",
       "maduro/events                              094\n",
       "maduro/events/anti                         094\n",
       "maduro/events/pro                         0312\n",
       "maduro/illegitimate                        073\n",
       "maduro/illegitimate/international          121\n",
       "maduro/legitimate                          141\n",
       "maduro/legitimate/international            073\n",
       "maduro/narco                              1712\n",
       "maduro/russia_support                     0341\n",
       "military                                   141\n",
       "military/desertions                        182\n",
       "other/anti_socialism                       141\n",
       "other/censorship_outage                   1014\n",
       "other/chavez                              1014\n",
       "other/chavez/anti                         1014\n",
       "other/chavez/pro                          0333\n",
       "other/media_bias                          0312\n",
       "other/planned_coup                        0333\n",
       "other/request_observers                    094\n",
       "other/restore_democracy                   0312\n",
       "protests                                  1712\n",
       "violence                                  1014\n",
       "violence/against_maduro                    126\n",
       "violence/against_opposition               1231\n",
       "violence/against_opposition/protesters    1231\n",
       "dtype: object"
      ]
     },
     "execution_count": 91,
     "metadata": {},
     "output_type": "execute_result"
    }
   ],
   "source": [
    "corrTwi214.idxmax(axis = 1)\n"
   ]
  },
  {
   "cell_type": "code",
   "execution_count": null,
   "metadata": {},
   "outputs": [],
   "source": []
  }
 ],
 "metadata": {
  "kernelspec": {
   "display_name": "Python 3",
   "language": "python",
   "name": "python3"
  },
  "language_info": {
   "codemirror_mode": {
    "name": "ipython",
    "version": 3
   },
   "file_extension": ".py",
   "mimetype": "text/x-python",
   "name": "python",
   "nbconvert_exporter": "python",
   "pygments_lexer": "ipython3",
   "version": "3.7.4"
  }
 },
 "nbformat": 4,
 "nbformat_minor": 2
}
